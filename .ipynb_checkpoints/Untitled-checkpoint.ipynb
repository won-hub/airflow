{
 "cells": [
  {
   "cell_type": "code",
   "execution_count": 11,
   "id": "883fee53-2f8a-4bf7-b4d4-3ea1a0f5b9c5",
   "metadata": {},
   "outputs": [
    {
     "name": "stdout",
     "output_type": "stream",
     "text": [
      "현재시간:2024-03-30 00:00:00\n",
      "-----------------월 연산------------------\n",
      "2024-01-30 00:00:00\n",
      "2024-01-30 00:00:00\n",
      "2024-02-29 00:00:00\n",
      "-----------------일 연산------------------\n",
      "2024-03-01 00:00:00\n",
      "2024-03-01 00:00:00\n",
      "2024-03-29 00:00:00\n",
      "-----------------연산 여러 개------------------\n",
      "2024-01-31 00:00:00\n"
     ]
    }
   ],
   "source": [
    "#pip install jupyter\n",
    "#python -m notebook\n",
    "\n",
    "from datetime import datetime\n",
    "from dateutil import relativedelta\n",
    "\n",
    "now = datetime(year=2024, month=3, day=30)\n",
    "print('현재시간:'+str(now))\n",
    "print('-----------------월 연산------------------')\n",
    "print(now + relativedelta.relativedelta(month=1)) #1월로 변경\n",
    "print(now.replace(month=1))                       #1월로 변경\n",
    "print(now + relativedelta.relativedelta(months=-1))#1개월 빼기\n",
    "print('-----------------일 연산------------------')\n",
    "print(now + relativedelta.relativedelta(day=1)) #1일로 변경\n",
    "print(now.replace(day=1))                       #1일로 변경\n",
    "print(now + relativedelta.relativedelta(days=-1))#1일 빼기\n",
    "print('----------------연산 여러 개----------------')\n",
    "print(now + relativedelta.relativedelta(month=1) - relativedelta.relativedelta(days=1)) #1개월, 1일 빼기    "
   ]
  },
  {
   "cell_type": "code",
   "execution_count": null,
   "id": "bfbb42ee-aec9-4132-a910-c7b30fe42952",
   "metadata": {},
   "outputs": [],
   "source": []
  },
  {
   "cell_type": "code",
   "execution_count": null,
   "id": "5d17cc3d-db61-4be7-8a38-deb0b5873190",
   "metadata": {},
   "outputs": [],
   "source": []
  },
  {
   "cell_type": "code",
   "execution_count": null,
   "id": "3ad3ad56-b6a9-4d9c-b4f8-08aee3eccad5",
   "metadata": {},
   "outputs": [],
   "source": []
  }
 ],
 "metadata": {
  "kernelspec": {
   "display_name": "Python 3 (ipykernel)",
   "language": "python",
   "name": "python3"
  },
  "language_info": {
   "codemirror_mode": {
    "name": "ipython",
    "version": 3
   },
   "file_extension": ".py",
   "mimetype": "text/x-python",
   "name": "python",
   "nbconvert_exporter": "python",
   "pygments_lexer": "ipython3",
   "version": "3.8.10"
  }
 },
 "nbformat": 4,
 "nbformat_minor": 5
}
